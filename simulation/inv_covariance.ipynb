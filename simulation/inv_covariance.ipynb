{
 "cells": [
  {
   "cell_type": "code",
   "execution_count": 1,
   "metadata": {},
   "outputs": [],
   "source": [
    "import numpy as np"
   ]
  },
  {
   "cell_type": "code",
   "execution_count": 2,
   "metadata": {},
   "outputs": [
    {
     "name": "stdout",
     "output_type": "stream",
     "text": [
      "Error between estimates (should be very small): \n",
      "[[ 7.16982029e-13 -1.06115117e-12  8.38745740e-13]\n",
      " [ 1.27098332e-12 -1.06858966e-12  5.70127279e-13]\n",
      " [-7.64749375e-13  1.02587383e-12 -4.65960603e-13]]\n",
      "Error between inverse of real and estimated covariance matrix:\n",
      "[[0.0025169  0.00425884 0.00152781]\n",
      " [0.00425884 0.00275907 0.00158127]\n",
      " [0.00152781 0.00158127 0.00022925]]\n"
     ]
    }
   ],
   "source": [
    "n = 100_000\n",
    "d = 3\n",
    "\n",
    "mu = np.array([1, 10, 20]).reshape(-1, 1)\n",
    "Sigma = np.array([1, -1, 0, -1, 3, -1, 0, -1, 3]).reshape(3, 3)\n",
    "\n",
    "X = np.random.multivariate_normal(mean=mu.flatten(), cov=Sigma, size=n)\n",
    "\n",
    "wt = 1  # Can modify this to take an exponentially weighted moving average\n",
    "wtSum = 0.0\n",
    "muhat = np.zeros((3, 1))\n",
    "\n",
    "# Starting estimates of covariance / inverse covariance.\n",
    "M = 0 * np.eye(d)\n",
    "Minv = 100_000_000 * np.eye(d)\n",
    "\n",
    "for x in X:\n",
    "    x = x.reshape(-1, 1)\n",
    "    wtSum = wt * wtSum + 1  # Divisor For Covariance Matrix\n",
    "    delta = x - muhat\n",
    "    muhat += delta / wtSum\n",
    "    new_delta = (x - muhat).reshape(1, -1)\n",
    "\n",
    "    # Estimation of Sigma\n",
    "    M = wt * M + delta @ new_delta\n",
    "    Sigma_hat = M / wtSum\n",
    "\n",
    "    # Estimation of the inverse of Sigma\n",
    "    Mnum = 1.0 / np.power(wt, 2) * Minv @ delta @ new_delta @ Minv\n",
    "    Mden = 1.0 + 1.0 / wt * new_delta @ Minv @ delta\n",
    "    Minv = Minv / wt - Mnum / Mden.item()\n",
    "\n",
    "print(\"Error between estimates (should be very small): \")\n",
    "print(np.linalg.pinv(Sigma_hat) - Minv * wtSum)\n",
    "\n",
    "print(\"Error between inverse of real and estimated covariance matrix:\")\n",
    "print(np.linalg.pinv(Sigma) - Minv * wtSum)"
   ]
  }
 ],
 "metadata": {
  "kernelspec": {
   "display_name": ".venv",
   "language": "python",
   "name": "python3"
  },
  "language_info": {
   "codemirror_mode": {
    "name": "ipython",
    "version": 3
   },
   "file_extension": ".py",
   "mimetype": "text/x-python",
   "name": "python",
   "nbconvert_exporter": "python",
   "pygments_lexer": "ipython3",
   "version": "3.12.4"
  }
 },
 "nbformat": 4,
 "nbformat_minor": 2
}
